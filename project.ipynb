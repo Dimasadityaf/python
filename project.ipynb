{
 "cells": [
  {
   "cell_type": "code",
   "execution_count": null,
   "metadata": {},
   "outputs": [],
   "source": [
    "import random\n",
    "player_wins = 0\n",
    "computer_wins = 0\n",
    "print(\"Let's play rock, paper, or scissors\")\n",
    "\n",
    "while player_wins < 2 and computer_wins < 2:\n",
    "    player_choice = input(\"\\nChoose rock, paper, or scissors: \").lower()\n",
    "    choices = [\"rock\", \"paper\", \"scissors\"]\n",
    "    computer_choice = random.choice(choices)\n",
    "    print(f\"Computer chose: {computer_choice}\")\n",
    "\n",
    "    if (player_choice == \"rock\" and computer_choice == \"scissors\") or (player_choice == \"scissors\" and computer_choice == \"paper\") or (player_choice == \"paper\" and computer_choice == \"rock\"):\n",
    "        winner = \"Player\"\n",
    "    elif player_choice == computer_choice:\n",
    "        winner = \"Tie\"\n",
    "    else:\n",
    "        winner = \"Computer\"\n",
    "\n",
    "    if winner == \"Player\":\n",
    "        player_wins += 1\n",
    "        print(\"You won\")\n",
    "    elif winner == \"Computer\":\n",
    "        computer_wins += 1\n",
    "        print(\"Computer won\")\n",
    "    else:\n",
    "        print(\"It's a tie\")\n",
    "    print(f\"Current Score - Player: {player_wins}, Computer: {computer_wins}\")\n",
    "    if player_wins > computer_wins:\n",
    "        print(\"Congratulations! You won\")\n",
    "    else:\n",
    "        print(\"Computer won!\")"
   ]
  },
  {
   "cell_type": "code",
   "execution_count": null,
   "metadata": {},
   "outputs": [],
   "source": [
    "todo_list = []\n",
    "while True:\n",
    "  if not todo_list:\n",
    "    print(\"Your ToDo list is empty\")\n",
    "  else:\n",
    "    index = 1\n",
    "    for task in todo_list:\n",
    "      print(f\"{index}. {task}\")\n",
    "      index += 1\n",
    "  print(\"Options:\")\n",
    "  print(\"1. Add Task\")\n",
    "  print(\"2. Remove Task\")\n",
    "  print(\"3. Quit\")\n",
    "  choice = input()\n",
    "  if choice == \"1\":\n",
    "    print(\"Adding task\")\n",
    "    new_task = input(\"Enter the task: \")\n",
    "    todo_list.append(new_task)\n",
    "    print(f\"Task '{new_task}' added to the ToDo list\")\n",
    "  elif choice == \"2\":\n",
    "    print(\"Removing task\")\n",
    "    if len(todo_list) > 0:\n",
    "      removed_task = todo_list.pop()\n",
    "    else:\n",
    "      print(\"Your ToDo list is empty\")\n",
    "  elif choice == \"3\":\n",
    "    print(\"Quitting\")\n",
    "    break"
   ]
  }
 ],
 "metadata": {
  "kernelspec": {
   "display_name": "Python 3",
   "language": "python",
   "name": "python3"
  },
  "language_info": {
   "codemirror_mode": {
    "name": "ipython",
    "version": 3
   },
   "file_extension": ".py",
   "mimetype": "text/x-python",
   "name": "python",
   "nbconvert_exporter": "python",
   "pygments_lexer": "ipython3",
   "version": "3.12.4"
  }
 },
 "nbformat": 4,
 "nbformat_minor": 2
}
